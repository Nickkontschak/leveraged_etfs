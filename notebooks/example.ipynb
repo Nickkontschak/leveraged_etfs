{
 "cells": [
  {
   "cell_type": "code",
   "execution_count": 1,
   "id": "75ce1c50-ad46-4206-9d68-acbaae3a3b59",
   "metadata": {},
   "outputs": [],
   "source": [
    "# to import src\n",
    "import sys\n",
    "sys.path.append(\"..\") \n",
    "\n",
    "# Autoreloads changed imports\n",
    "%load_ext autoreload\n",
    "%autoreload 2"
   ]
  },
  {
   "cell_type": "code",
   "execution_count": null,
   "id": "76f4cceb-72ea-402b-9369-ba308e9012b0",
   "metadata": {},
   "outputs": [],
   "source": []
  }
 ],
 "metadata": {
  "kernelspec": {
   "display_name": "Python 3 (ipykernel)",
   "language": "python",
   "name": "python3"
  },
  "language_info": {
   "codemirror_mode": {
    "name": "ipython",
    "version": 3
   },
   "file_extension": ".py",
   "mimetype": "text/x-python",
   "name": "python",
   "nbconvert_exporter": "python",
   "pygments_lexer": "ipython3",
   "version": "3.10.10"
  }
 },
 "nbformat": 4,
 "nbformat_minor": 5
}
