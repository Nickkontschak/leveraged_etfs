{
 "cells": [
  {
   "cell_type": "code",
   "execution_count": 1,
   "id": "75ce1c50-ad46-4206-9d68-acbaae3a3b59",
   "metadata": {},
   "outputs": [],
   "source": [
    "# to import src\n",
    "import sys\n",
    "sys.path.append(\"..\") \n",
    "\n",
    "# Autoreloads changed imports\n",
    "%load_ext autoreload\n",
    "%autoreload 2\n",
    "\n",
    "from src import constants"
   ]
  },
  {
   "cell_type": "code",
   "execution_count": null,
   "id": "bc0b2df0-80c2-444c-ae90-f2c8a70d0adc",
   "metadata": {},
   "outputs": [],
   "source": []
  }
 ],
 "metadata": {
  "kernelspec": {
   "display_name": "Python 3 (ipykernel)",
   "language": "python",
   "name": "python3"
  },
  "language_info": {
   "codemirror_mode": {
    "name": "ipython",
    "version": 3
   },
   "file_extension": ".py",
   "mimetype": "text/x-python",
   "name": "python",
   "nbconvert_exporter": "python",
   "pygments_lexer": "ipython3",
   "version": "3.10.10"
  }
 },
 "nbformat": 4,
 "nbformat_minor": 5
}
